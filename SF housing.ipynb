{
 "cells": [
  {
   "cell_type": "markdown",
   "metadata": {},
   "source": [
    "# SF Assessment data"
   ]
  },
  {
   "cell_type": "code",
   "execution_count": 259,
   "metadata": {
    "collapsed": true
   },
   "outputs": [],
   "source": [
    "import pandas as pd\n",
    "import numpy as np\n",
    "import matplotlib.pyplot as plt\n",
    "from sklearn.linear_model import LinearRegression"
   ]
  },
  {
   "cell_type": "code",
   "execution_count": 260,
   "metadata": {
    "collapsed": true
   },
   "outputs": [],
   "source": [
    "housing = pd.read_csv('Historic_Secured_Property_Tax_Rolls.csv')"
   ]
  },
  {
   "cell_type": "markdown",
   "metadata": {},
   "source": [
    "Fraction of assessments in most common class"
   ]
  },
  {
   "cell_type": "code",
   "execution_count": 261,
   "metadata": {
    "collapsed": false
   },
   "outputs": [
    {
     "name": "stdout",
     "output_type": "stream",
     "text": [
      "0.470725322714\n"
     ]
    }
   ],
   "source": [
    "housing['Property Class Code'] = housing['Property Class Code'].fillna('NaN')\n",
    "code_counts = housing['Property Class Code'] .value_counts()\n",
    "max_code = code_counts.max().astype(float)\n",
    "print(max_code/code_counts.sum())"
   ]
  },
  {
   "cell_type": "markdown",
   "metadata": {},
   "source": [
    "Median assessed improvement value"
   ]
  },
  {
   "cell_type": "code",
   "execution_count": 262,
   "metadata": {
    "collapsed": false
   },
   "outputs": [
    {
     "name": "stdout",
     "output_type": "stream",
     "text": [
      "Median assessed improvements: $209240.000000\n"
     ]
    }
   ],
   "source": [
    "sorted_housing = housing.sort_values('Closed Roll Fiscal Year', ascending = False)\n",
    "sorted_housing = sorted_housing.drop_duplicates(subset='Block and Lot Number')\n",
    "sorted_housing['Closed Roll Assessed Improvement Value'].fillna(0, inplace = True)\n",
    "assessments = sorted_housing[sorted_housing['Closed Roll Assessed Improvement Value']>0.0]\n",
    "med_assessments = assessments['Closed Roll Assessed Improvement Value'].median()\n",
    "print('Median assessed improvements: $%f'%med_assessments)"
   ]
  },
  {
   "cell_type": "markdown",
   "metadata": {},
   "source": [
    "Average improvement value by neighborhood"
   ]
  },
  {
   "cell_type": "code",
   "execution_count": 263,
   "metadata": {
    "collapsed": false
   },
   "outputs": [
    {
     "name": "stdout",
     "output_type": "stream",
     "text": [
      "(5013197.0481682494, 132027.88435788194, 4881169.1638103677)\n"
     ]
    }
   ],
   "source": [
    "neighborhoods = sorted_housing.groupby('Neighborhood Code')\n",
    "Max = neighborhoods['Closed Roll Assessed Improvement Value'].mean().max()\n",
    "Min = neighborhoods['Closed Roll Assessed Improvement Value'].mean().min()\n",
    "print(Max, Min, Max-Min)"
   ]
  },
  {
   "cell_type": "markdown",
   "metadata": {},
   "source": [
    "Yearly growth rate of land values"
   ]
  },
  {
   "cell_type": "code",
   "execution_count": 264,
   "metadata": {
    "collapsed": false
   },
   "outputs": [
    {
     "name": "stdout",
     "output_type": "stream",
     "text": [
      "(array([[ 0.04188026]]), array([ 11.67322951]))\n"
     ]
    }
   ],
   "source": [
    "values = housing[['Closed Roll Fiscal Year','Closed Roll Assessed Land Value']]\n",
    "values = values[values['Closed Roll Assessed Land Value']>0].dropna()\n",
    "Y_ = np.log(values['Closed Roll Assessed Land Value']).reshape(-1,1)\n",
    "t_ = np.asarray(values['Closed Roll Fiscal Year']-2007).reshape(-1,1)\n",
    "\n",
    "regr = LinearRegression(normalize = True, n_jobs = -1)\n",
    "regr.fit(t_,Y_)\n",
    "coeffs = regr.coef_\n",
    "intercept = regr.intercept_\n",
    "score = regr.score(t_,Y_)\n",
    "print(coeffs, intercept)"
   ]
  },
  {
   "cell_type": "markdown",
   "metadata": {},
   "source": [
    "Neighborhood areas"
   ]
  },
  {
   "cell_type": "code",
   "execution_count": 265,
   "metadata": {
    "collapsed": false
   },
   "outputs": [
    {
     "name": "stdout",
     "output_type": "stream",
     "text": [
      "(37.721324864785458, -122.38002572569654)\n",
      "0.758988541274\n"
     ]
    }
   ],
   "source": [
    "Locations = sorted_housing[['Neighborhood Code','Location']]\n",
    "Locations = Locations.replace([np.inf, -np.inf],np.nan).dropna()\n",
    "XLocs = [float(l.split(',')[0].strip('(')) for l in Locations['Location']]\n",
    "YLocs = [float(l.split(',')[1].strip(')')) for l in Locations['Location']]\n",
    "Locations['Lat']=XLocs\n",
    "Locations['Long']=YLocs\n",
    "\n",
    "Neighborhood_size = Locations.groupby('Neighborhood Code')\n",
    "Lat_dim = Neighborhood_size['Lat'].std()\n",
    "Long_dim = Neighborhood_size['Lat'].std()\n",
    "area = np.pi*(Lat_dim/2)*(Long_dim/2)\n",
    "biggest_neighborhood = Neighborhood_size.get_group(area.idxmax())\n",
    "mean_lat = biggest_neighborhood['Lat'].mean()\n",
    "mean_long = biggest_neighborhood['Long'].mean()\n",
    "print(mean_lat,mean_long)\n",
    "# conversion to kilometers at 37.72 is 1:110.991 for lat and 1:88.165 for long, see msi.nga.mil\n",
    "Lat_dim_km = biggest_neighborhood['Lat'].std()*110.991\n",
    "Long_dim_km = biggest_neighborhood['Long'].std()*88.165\n",
    "biggest_area = np.pi*(Lat_dim_km/2)*(Long_dim_km/2)\n",
    "print(biggest_area)"
   ]
  },
  {
   "cell_type": "markdown",
   "metadata": {},
   "source": [
    "Comparing average units for buildings built pre and post 1950"
   ]
  },
  {
   "cell_type": "code",
   "execution_count": 266,
   "metadata": {
    "collapsed": false
   },
   "outputs": [
    {
     "name": "stdout",
     "output_type": "stream",
     "text": [
      "0.41985685735\n"
     ]
    }
   ],
   "source": [
    "units = housing[['Closed Roll Fiscal Year','Block and Lot Number','Number of Units',\n",
    "                 'Year Property Built']].sort_values('Closed Roll Fiscal Year', \n",
    "                                                     ascending = True).drop_duplicates(subset='Block and Lot Number')\n",
    "# the oldest property in SF was built in 1776. The dataset should not include properties built after 2015.\n",
    "keep = (units['Number of Units']>0) & (units['Year Property Built']<2016) & (units['Year Property Built']>1776)\n",
    "units = units[keep]\n",
    "average_pre1950 = units['Number of Units'][units['Year Property Built']<1950].mean()\n",
    "average_post1950 = units['Number of Units'][units['Year Property Built']>=1950].mean()\n",
    "print(abs(average_pre1950-average_post1950))"
   ]
  },
  {
   "cell_type": "markdown",
   "metadata": {},
   "source": [
    "Bedrooms per unit by zipcode"
   ]
  },
  {
   "cell_type": "code",
   "execution_count": 267,
   "metadata": {
    "collapsed": false
   },
   "outputs": [
    {
     "name": "stdout",
     "output_type": "stream",
     "text": [
      "3.80756013746\n"
     ]
    }
   ],
   "source": [
    "bedrooms = sorted_housing[(sorted_housing['Number of Bedrooms']>0) & (sorted_housing['Number of Units']>0)]\n",
    "mean_bedrooms = bedrooms.groupby('Zipcode of Parcel')['Number of Bedrooms'].mean()\n",
    "mean_units = bedrooms.groupby('Zipcode of Parcel')['Number of Units'].mean() \n",
    "ratios = (mean_bedrooms/mean_units)\n",
    "print(ratios.max())"
   ]
  },
  {
   "cell_type": "markdown",
   "metadata": {},
   "source": [
    "Total property area to total lot area, by zipcode"
   ]
  },
  {
   "cell_type": "code",
   "execution_count": 268,
   "metadata": {
    "collapsed": false
   },
   "outputs": [
    {
     "name": "stdout",
     "output_type": "stream",
     "text": [
      "12.0603296061\n"
     ]
    }
   ],
   "source": [
    "built_up = sorted_housing[sorted_housing['Lot Area']>0]\n",
    "property_area = built_up.groupby('Zipcode of Parcel')['Property Area in Square Feet'].sum()\n",
    "lot_area = built_up.groupby('Zipcode of Parcel')['Lot Area'].sum()\n",
    "built_ratio = property_area/lot_area\n",
    "print(built_ratio.max())"
   ]
  },
  {
   "cell_type": "code",
   "execution_count": null,
   "metadata": {
    "collapsed": true
   },
   "outputs": [],
   "source": []
  }
 ],
 "metadata": {
  "kernelspec": {
   "display_name": "Python 2",
   "language": "python",
   "name": "python2"
  },
  "language_info": {
   "codemirror_mode": {
    "name": "ipython",
    "version": 2
   },
   "file_extension": ".py",
   "mimetype": "text/x-python",
   "name": "python",
   "nbconvert_exporter": "python",
   "pygments_lexer": "ipython2",
   "version": "2.7.12"
  }
 },
 "nbformat": 4,
 "nbformat_minor": 0
}
